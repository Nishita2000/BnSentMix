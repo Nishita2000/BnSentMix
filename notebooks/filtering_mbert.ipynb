{
  "cells": [
    {
      "cell_type": "code",
      "execution_count": null,
      "metadata": {
        "colab": {
          "base_uri": "https://localhost:8080/"
        },
        "id": "QcwLG-OeiL5U",
        "outputId": "13bea315-d1a7-43c6-e612-a84080101db4"
      },
      "outputs": [
        {
          "output_type": "stream",
          "name": "stdout",
          "text": [
            "Mounted at /content/drive\n"
          ]
        }
      ],
      "source": [
        "from google.colab import drive\n",
        "drive.mount('/content/drive')"
      ]
    },
    {
      "cell_type": "code",
      "execution_count": null,
      "metadata": {
        "colab": {
          "base_uri": "https://localhost:8080/"
        },
        "id": "_hi6sR8iiZ_E",
        "outputId": "affc87e5-b7c6-4cea-a306-5c0467c9dcf6"
      },
      "outputs": [
        {
          "output_type": "stream",
          "name": "stdout",
          "text": [
            "Requirement already satisfied: transformers in /usr/local/lib/python3.10/dist-packages (4.38.2)\n",
            "Requirement already satisfied: filelock in /usr/local/lib/python3.10/dist-packages (from transformers) (3.13.4)\n",
            "Requirement already satisfied: huggingface-hub<1.0,>=0.19.3 in /usr/local/lib/python3.10/dist-packages (from transformers) (0.20.3)\n",
            "Requirement already satisfied: numpy>=1.17 in /usr/local/lib/python3.10/dist-packages (from transformers) (1.25.2)\n",
            "Requirement already satisfied: packaging>=20.0 in /usr/local/lib/python3.10/dist-packages (from transformers) (24.0)\n",
            "Requirement already satisfied: pyyaml>=5.1 in /usr/local/lib/python3.10/dist-packages (from transformers) (6.0.1)\n",
            "Requirement already satisfied: regex!=2019.12.17 in /usr/local/lib/python3.10/dist-packages (from transformers) (2023.12.25)\n",
            "Requirement already satisfied: requests in /usr/local/lib/python3.10/dist-packages (from transformers) (2.31.0)\n",
            "Requirement already satisfied: tokenizers<0.19,>=0.14 in /usr/local/lib/python3.10/dist-packages (from transformers) (0.15.2)\n",
            "Requirement already satisfied: safetensors>=0.4.1 in /usr/local/lib/python3.10/dist-packages (from transformers) (0.4.2)\n",
            "Requirement already satisfied: tqdm>=4.27 in /usr/local/lib/python3.10/dist-packages (from transformers) (4.66.2)\n",
            "Requirement already satisfied: fsspec>=2023.5.0 in /usr/local/lib/python3.10/dist-packages (from huggingface-hub<1.0,>=0.19.3->transformers) (2023.6.0)\n",
            "Requirement already satisfied: typing-extensions>=3.7.4.3 in /usr/local/lib/python3.10/dist-packages (from huggingface-hub<1.0,>=0.19.3->transformers) (4.11.0)\n",
            "Requirement already satisfied: charset-normalizer<4,>=2 in /usr/local/lib/python3.10/dist-packages (from requests->transformers) (3.3.2)\n",
            "Requirement already satisfied: idna<4,>=2.5 in /usr/local/lib/python3.10/dist-packages (from requests->transformers) (3.6)\n",
            "Requirement already satisfied: urllib3<3,>=1.21.1 in /usr/local/lib/python3.10/dist-packages (from requests->transformers) (2.0.7)\n",
            "Requirement already satisfied: certifi>=2017.4.17 in /usr/local/lib/python3.10/dist-packages (from requests->transformers) (2024.2.2)\n"
          ]
        }
      ],
      "source": [
        "!pip install transformers"
      ]
    },
    {
      "cell_type": "code",
      "source": [
        "import torch\n",
        "import re\n",
        "import pandas as pd\n",
        "from transformers import BertTokenizer, BertForSequenceClassification\n",
        "\n",
        "# Load the pre-trained mBERT model and tokenizer\n",
        "model_path = \"/content/drive/MyDrive/hudai/mbert_trained_model.pth\"  # Replace with the path to your .pth file\n",
        "model = BertForSequenceClassification.from_pretrained('bert-base-multilingual-cased')\n",
        "tokenizer = BertTokenizer.from_pretrained('bert-base-multilingual-cased')\n",
        "\n",
        "# Load your fine-tuned model weights\n",
        "model.load_state_dict(torch.load(model_path, map_location=torch.device('cpu')))\n",
        "model.eval()\n",
        "\n",
        "# Check if CUDA is available and use it if possible\n",
        "device = torch.device('cuda' if torch.cuda.is_available() else 'cpu')\n",
        "model.to(device)\n",
        "\n",
        "# Function to preprocess a word\n",
        "def preprocess_word(word):\n",
        "    word = word.lower()\n",
        "    word = re.sub(r'[^a-zA-Z\\s]', '', word)\n",
        "    word = word.strip()\n",
        "    word = re.sub(r'[^\\x00-\\x7f]', '', word)\n",
        "    return word\n",
        "\n",
        "# Function to predict the class of a given sentence based on the count of \"benglish\" words\n",
        "def predict_class(sentences):\n",
        "    total_benglish_word_count = 0\n",
        "    total_word_count = 0\n",
        "\n",
        "    for sentence in sentences:\n",
        "        words = sentence.split()\n",
        "        benglish_word_count = 0\n",
        "        sentence_word_count = 0\n",
        "\n",
        "        for word in words:\n",
        "            word = preprocess_word(word)\n",
        "            if not word:\n",
        "                continue\n",
        "            sentence_word_count += 1\n",
        "            inputs = tokenizer(word, return_tensors='pt').to(device)\n",
        "\n",
        "            with torch.no_grad():\n",
        "                outputs = model(**inputs)\n",
        "\n",
        "            predicted_class = torch.argmax(outputs.logits, dim=1).item()\n",
        "\n",
        "            if predicted_class == 1:\n",
        "                benglish_word_count += 1\n",
        "\n",
        "        total_benglish_word_count += benglish_word_count\n",
        "        total_word_count += sentence_word_count\n",
        "\n",
        "    if total_word_count < 4:\n",
        "        return 0\n",
        "\n",
        "    benglish_percentage = total_benglish_word_count / total_word_count\n",
        "    return 1 if benglish_percentage >= 0.3 else 0\n",
        "\n",
        "# Load your dataset from Google Drive (assuming it's a CSV file)\n",
        "dataset_path = \"/content/drive/MyDrive/hudai/hudai.csv\"  # Replace with the path to your dataset\n",
        "df = pd.read_csv(dataset_path)\n",
        "\n",
        "# Predict the class for each row in the dataset\n",
        "for index, row in df.iterrows():\n",
        "    sentence = row['sentence1']\n",
        "\n",
        "    if not pd.isnull(sentence):\n",
        "        sentences = sentence.split('.')\n",
        "        final_prediction = predict_class(sentences)\n",
        "        df.at[index, 'label'] = final_prediction\n",
        "\n",
        "# Save the updated DataFrame back to the CSV file\n",
        "df.to_csv(dataset_path, index=False)\n"
      ],
      "metadata": {
        "id": "ilWS99QTV-59"
      },
      "execution_count": null,
      "outputs": []
    }
  ],
  "metadata": {
    "colab": {
      "provenance": []
    },
    "kernelspec": {
      "display_name": "Python 3",
      "name": "python3"
    },
    "language_info": {
      "name": "python"
    }
  },
  "nbformat": 4,
  "nbformat_minor": 0
}